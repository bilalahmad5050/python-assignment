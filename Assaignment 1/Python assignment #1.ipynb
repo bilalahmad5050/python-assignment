{
 "cells": [
  {
   "cell_type": "code",
   "execution_count": 1,
   "id": "f5eef6a9",
   "metadata": {},
   "outputs": [
    {
     "name": "stdout",
     "output_type": "stream",
     "text": [
      "Twinkle Twinkle little star \n",
      "\t how i wonder what you are \n",
      " \t\t up above the world so high  \n",
      "\t\t like a diamond in the sky \n",
      " Twinkle Twinkle little star \n",
      " How i wonder what you are \n"
     ]
    }
   ],
   "source": [
    "print(\"Twinkle Twinkle little star \\n\\t how i wonder what you are \\n \\t\\t up above the world so high  \\n\\t\\t like a diamond in the sky \\n Twinkle Twinkle little star \\n How i wonder what you are \")"
   ]
  },
  {
   "cell_type": "code",
   "execution_count": 2,
   "id": "8527187c",
   "metadata": {},
   "outputs": [
    {
     "name": "stdout",
     "output_type": "stream",
     "text": [
      "Python version\n",
      "3.9.7 (default, Sep 16 2021, 16:59:28) [MSC v.1916 64 bit (AMD64)]\n",
      "Version info.\n",
      "sys.version_info(major=3, minor=9, micro=7, releaselevel='final', serial=0)\n"
     ]
    }
   ],
   "source": [
    "import sys\n",
    "print(\"Python version\")\n",
    "print (sys.version)\n",
    "print(\"Version info.\")\n",
    "print (sys.version_info)"
   ]
  },
  {
   "cell_type": "code",
   "execution_count": 3,
   "id": "c192c026",
   "metadata": {},
   "outputs": [
    {
     "name": "stdout",
     "output_type": "stream",
     "text": [
      "Current date and time : \n",
      "2022-01-01 19:40:10\n"
     ]
    }
   ],
   "source": [
    "import datetime\n",
    "now = datetime.datetime.now()\n",
    "print (\"Current date and time : \")\n",
    "print (now.strftime(\"%Y-%m-%d %H:%M:%S\"))"
   ]
  },
  {
   "cell_type": "code",
   "execution_count": null,
   "id": "9ba1dd60",
   "metadata": {},
   "outputs": [],
   "source": [
    "from math import pi\n",
    "rad = float(input(\"Enter the radius of cricle:\"))\n",
    "print (\"The area of circle with radius\\t\" + str(rad) + \"is:\\t\"+ (str(pi * rad**2)))"
   ]
  },
  {
   "cell_type": "code",
   "execution_count": null,
   "id": "fe4c3841",
   "metadata": {},
   "outputs": [],
   "source": [
    "fname = input(\"Enter your first name:\")\n",
    "lname = input(\"Enter your last name :\")\n",
    "print(lname +\"   \"+ fname)"
   ]
  },
  {
   "cell_type": "code",
   "execution_count": null,
   "id": "dd75d1d2",
   "metadata": {},
   "outputs": [],
   "source": [
    "num1 = input(\"Enter first number:\")\n",
    "num2 = input(\"Enter second number:\")\n",
    "result = int(num1) + int(num2) \n",
    "print(result)"
   ]
  },
  {
   "cell_type": "code",
   "execution_count": null,
   "id": "c5f27693",
   "metadata": {},
   "outputs": [],
   "source": []
  }
 ],
 "metadata": {
  "kernelspec": {
   "display_name": "Python 3 (ipykernel)",
   "language": "python",
   "name": "python3"
  },
  "language_info": {
   "codemirror_mode": {
    "name": "ipython",
    "version": 3
   },
   "file_extension": ".py",
   "mimetype": "text/x-python",
   "name": "python",
   "nbconvert_exporter": "python",
   "pygments_lexer": "ipython3",
   "version": "3.9.7"
  }
 },
 "nbformat": 4,
 "nbformat_minor": 5
}
